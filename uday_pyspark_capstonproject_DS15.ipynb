{
  "nbformat": 4,
  "nbformat_minor": 0,
  "metadata": {
    "colab": {
      "provenance": [],
      "collapsed_sections": []
    },
    "kernelspec": {
      "name": "python3",
      "display_name": "Python 3"
    },
    "language_info": {
      "name": "python"
    }
  },
  "cells": [
    {
      "cell_type": "markdown",
      "source": [
        "##**Installing PYSPARK**\n"
      ],
      "metadata": {
        "id": "BI0uum6S0u5V"
      }
    },
    {
      "cell_type": "code",
      "execution_count": null,
      "metadata": {
        "colab": {
          "base_uri": "https://localhost:8080/"
        },
        "id": "0zwOxLzTj3rk",
        "outputId": "58a16e02-c9d6-4b16-a86f-e34d770b098d"
      },
      "outputs": [
        {
          "output_type": "stream",
          "name": "stdout",
          "text": [
            "Looking in indexes: https://pypi.org/simple, https://us-python.pkg.dev/colab-wheels/public/simple/\n",
            "Collecting pyspark\n",
            "  Downloading pyspark-3.3.0.tar.gz (281.3 MB)\n",
            "\u001b[K     |████████████████████████████████| 281.3 MB 32 kB/s \n",
            "\u001b[?25hCollecting py4j==0.10.9.5\n",
            "  Downloading py4j-0.10.9.5-py2.py3-none-any.whl (199 kB)\n",
            "\u001b[K     |████████████████████████████████| 199 kB 48.3 MB/s \n",
            "\u001b[?25hBuilding wheels for collected packages: pyspark\n",
            "  Building wheel for pyspark (setup.py) ... \u001b[?25l\u001b[?25hdone\n",
            "  Created wheel for pyspark: filename=pyspark-3.3.0-py2.py3-none-any.whl size=281764026 sha256=0c1f140ea13ab316b92d22546370d859efa703bc0934b6b0eff825bb28547711\n",
            "  Stored in directory: /root/.cache/pip/wheels/7a/8e/1b/f73a52650d2e5f337708d9f6a1750d451a7349a867f928b885\n",
            "Successfully built pyspark\n",
            "Installing collected packages: py4j, pyspark\n",
            "Successfully installed py4j-0.10.9.5 pyspark-3.3.0\n"
          ]
        }
      ],
      "source": [
        "pip install pyspark #Installing Pyspark"
      ]
    },
    {
      "cell_type": "code",
      "source": [
        "#Initializing PySpark\n",
        "from pyspark import SparkContext, SparkConf #import sparkcontext and sparkconfig from pyspark\n",
        "from pyspark.sql import SparkSession #import sparksession from pyspark.sql\n",
        "from pyspark.sql import SQLContext #import sparkcontext from pyspark.sql\n",
        "\n",
        "#Spark Config\n",
        "conf = SparkConf().setAppName(\"sample_app\") #config the app name as variable as conf\n",
        "sc = SparkContext(conf=conf) # creating the sparkcontext as variable sc\n",
        "spark = SparkSession.builder.appName('Test').getOrCreate() #creating spark and appname as test to get or create \n",
        "sqlContext = SQLContext(sc) # sqlcontext"
      ],
      "metadata": {
        "colab": {
          "base_uri": "https://localhost:8080/"
        },
        "id": "4O183kSXj7jf",
        "outputId": "be9c1fe8-41d7-4da5-8e40-636693f278c1"
      },
      "execution_count": null,
      "outputs": [
        {
          "output_type": "stream",
          "name": "stderr",
          "text": [
            "/usr/local/lib/python3.7/dist-packages/pyspark/sql/context.py:114: FutureWarning: Deprecated in 3.0.0. Use SparkSession.builder.getOrCreate() instead.\n",
            "  FutureWarning,\n"
          ]
        }
      ]
    },
    {
      "cell_type": "code",
      "source": [
        "sc # check the version and app name as sc"
      ],
      "metadata": {
        "colab": {
          "base_uri": "https://localhost:8080/",
          "height": 196
        },
        "id": "gkIUM5sVkN2n",
        "outputId": "03a4d066-df93-4509-9b6f-f0b34c992133"
      },
      "execution_count": null,
      "outputs": [
        {
          "output_type": "execute_result",
          "data": {
            "text/plain": [
              "<SparkContext master=local[*] appName=sample_app>"
            ],
            "text/html": [
              "\n",
              "        <div>\n",
              "            <p><b>SparkContext</b></p>\n",
              "\n",
              "            <p><a href=\"http://82ef89d4103d:4040\">Spark UI</a></p>\n",
              "\n",
              "            <dl>\n",
              "              <dt>Version</dt>\n",
              "                <dd><code>v3.3.0</code></dd>\n",
              "              <dt>Master</dt>\n",
              "                <dd><code>local[*]</code></dd>\n",
              "              <dt>AppName</dt>\n",
              "                <dd><code>sample_app</code></dd>\n",
              "            </dl>\n",
              "        </div>\n",
              "        "
            ]
          },
          "metadata": {},
          "execution_count": 3
        }
      ]
    },
    {
      "cell_type": "markdown",
      "source": [
        "##**Read the File**"
      ],
      "metadata": {
        "id": "SqyIYJ0u1_3z"
      }
    },
    {
      "cell_type": "code",
      "source": [
        "#Reading the csv file of the data\n",
        "olympix= spark.read.format(\"csv\").option(\"header\",\"true\").option(\"inferSchema\",\"true\").option(\"delimeter\",\",\").load(\"/content/olympix_data_organized.csv\") \n",
        "olympix.show() #print output "
      ],
      "metadata": {
        "id": "l60lpb4EkPc1",
        "colab": {
          "base_uri": "https://localhost:8080/"
        },
        "outputId": "ef818a7a-960c-4d79-c759-f676ec0b6093"
      },
      "execution_count": null,
      "outputs": [
        {
          "output_type": "stream",
          "name": "stdout",
          "text": [
            "+--------------------+---+-------------+----+----------+--------------------+----------+------------+-----------+-----------+\n",
            "|                name|age|      country|year|Date_Given|              sports|gold_medal|silver_medal|brone_medal|total_medal|\n",
            "+--------------------+---+-------------+----+----------+--------------------+----------+------------+-----------+-----------+\n",
            "|      Michael Phelps| 23|United States|2008| 8/24/2008|            Swimming|         8|           0|          0|          8|\n",
            "|      Michael Phelps| 19|United States|2004| 8/29/2004|            Swimming|         6|           0|          2|          8|\n",
            "|      Michael Phelps| 27|United States|2012|08-12-2012|            Swimming|         4|           2|          0|          6|\n",
            "|    Natalie Coughlin| 25|United States|2008| 8/24/2008|            Swimming|         1|           2|          3|          6|\n",
            "|       Aleksey Nemov| 24|       Russia|2000|10-01-2000|          Gymnastics|         2|           1|          3|          6|\n",
            "|       Alicia Coutts| 24|    Australia|2012|08-12-2012|            Swimming|         1|           3|          1|          5|\n",
            "|      Missy Franklin| 17|United States|2012|08-12-2012|            Swimming|         4|           0|          1|          5|\n",
            "|         Ryan Lochte| 27|United States|2012|08-12-2012|            Swimming|         2|           2|          1|          5|\n",
            "|     Allison Schmitt| 22|United States|2012|08-12-2012|            Swimming|         3|           1|          1|          5|\n",
            "|    Natalie Coughlin| 21|United States|2004| 8/29/2004|            Swimming|         2|           2|          1|          5|\n",
            "|          Ian Thorpe| 17|    Australia|2000|10-01-2000|            Swimming|         3|           2|          0|          5|\n",
            "|         Dara Torres| 33|United States|2000|10-01-2000|            Swimming|         2|           0|          3|          5|\n",
            "|       Cindy Klassen| 26|       Canada|2006| 2/26/2006|       Speed Skating|         1|           2|          2|          5|\n",
            "|       Nastia Liukin| 18|United States|2008| 8/24/2008|          Gymnastics|         1|           3|          1|          5|\n",
            "|       Marit Bjørgen| 29|       Norway|2010| 2/28/2010|Cross Country Skiing|         3|           1|          1|          5|\n",
            "|            Sun Yang| 20|        China|2012|08-12-2012|            Swimming|         2|           1|          1|          4|\n",
            "|     Kirsty Coventry| 24|     Zimbabwe|2008| 8/24/2008|            Swimming|         1|           3|          0|          4|\n",
            "|Libby Lenton-Tric...| 23|    Australia|2008| 8/24/2008|            Swimming|         2|           1|          1|          4|\n",
            "|         Ryan Lochte| 24|United States|2008| 8/24/2008|            Swimming|         2|           0|          2|          4|\n",
            "|      Inge de Bruijn| 30|  Netherlands|2004| 8/29/2004|            Swimming|         1|           1|          2|          4|\n",
            "+--------------------+---+-------------+----+----------+--------------------+----------+------------+-----------+-----------+\n",
            "only showing top 20 rows\n",
            "\n"
          ]
        }
      ]
    },
    {
      "cell_type": "markdown",
      "source": [
        "###**Explanation**\n",
        "\n",
        "As per the above result, we use spark.read.format and including header and infer schema and delimeter as well."
      ],
      "metadata": {
        "id": "Pt_pXw7D1dpf"
      }
    },
    {
      "cell_type": "markdown",
      "source": [
        "##**Basic Analysis**"
      ],
      "metadata": {
        "id": "ZKxTWxqh2qnC"
      }
    },
    {
      "cell_type": "code",
      "source": [
        "print(olympix.count()) #counting the total number of rows present in the data set "
      ],
      "metadata": {
        "colab": {
          "base_uri": "https://localhost:8080/"
        },
        "id": "PYrZpQOr2dDz",
        "outputId": "e2d7f460-285b-42b9-ee04-0691fbf01b60"
      },
      "execution_count": null,
      "outputs": [
        {
          "output_type": "stream",
          "name": "stdout",
          "text": [
            "8618\n"
          ]
        }
      ]
    },
    {
      "cell_type": "markdown",
      "source": [
        "###**Explanation**\n",
        "\n",
        "We can see the above result,we have 8618 rows present in the data set by using count function."
      ],
      "metadata": {
        "id": "QoDVt7mP2uB5"
      }
    },
    {
      "cell_type": "markdown",
      "source": [
        "#**Removing the null values**"
      ],
      "metadata": {
        "id": "6EkbfWvltZVI"
      }
    },
    {
      "cell_type": "code",
      "source": [
        "# if any row having any Null\n",
        "# value we are dropping that\n",
        "# rows\n",
        "olympix=olympix.dropna(how=\"all\")\n",
        "olympix.show()"
      ],
      "metadata": {
        "id": "0-1kmvSOtI8i",
        "colab": {
          "base_uri": "https://localhost:8080/"
        },
        "outputId": "758c2b86-fca1-4833-d700-b3a7d57140f9"
      },
      "execution_count": null,
      "outputs": [
        {
          "output_type": "stream",
          "name": "stdout",
          "text": [
            "+--------------------+---+-------------+----+----------+--------------------+----------+------------+-----------+-----------+\n",
            "|                name|age|      country|year|Date_Given|              sports|gold_medal|silver_medal|brone_medal|total_medal|\n",
            "+--------------------+---+-------------+----+----------+--------------------+----------+------------+-----------+-----------+\n",
            "|      Michael Phelps| 23|United States|2008| 8/24/2008|            Swimming|         8|           0|          0|          8|\n",
            "|      Michael Phelps| 19|United States|2004| 8/29/2004|            Swimming|         6|           0|          2|          8|\n",
            "|      Michael Phelps| 27|United States|2012|08-12-2012|            Swimming|         4|           2|          0|          6|\n",
            "|    Natalie Coughlin| 25|United States|2008| 8/24/2008|            Swimming|         1|           2|          3|          6|\n",
            "|       Aleksey Nemov| 24|       Russia|2000|10-01-2000|          Gymnastics|         2|           1|          3|          6|\n",
            "|       Alicia Coutts| 24|    Australia|2012|08-12-2012|            Swimming|         1|           3|          1|          5|\n",
            "|      Missy Franklin| 17|United States|2012|08-12-2012|            Swimming|         4|           0|          1|          5|\n",
            "|         Ryan Lochte| 27|United States|2012|08-12-2012|            Swimming|         2|           2|          1|          5|\n",
            "|     Allison Schmitt| 22|United States|2012|08-12-2012|            Swimming|         3|           1|          1|          5|\n",
            "|    Natalie Coughlin| 21|United States|2004| 8/29/2004|            Swimming|         2|           2|          1|          5|\n",
            "|          Ian Thorpe| 17|    Australia|2000|10-01-2000|            Swimming|         3|           2|          0|          5|\n",
            "|         Dara Torres| 33|United States|2000|10-01-2000|            Swimming|         2|           0|          3|          5|\n",
            "|       Cindy Klassen| 26|       Canada|2006| 2/26/2006|       Speed Skating|         1|           2|          2|          5|\n",
            "|       Nastia Liukin| 18|United States|2008| 8/24/2008|          Gymnastics|         1|           3|          1|          5|\n",
            "|       Marit Bjørgen| 29|       Norway|2010| 2/28/2010|Cross Country Skiing|         3|           1|          1|          5|\n",
            "|            Sun Yang| 20|        China|2012|08-12-2012|            Swimming|         2|           1|          1|          4|\n",
            "|     Kirsty Coventry| 24|     Zimbabwe|2008| 8/24/2008|            Swimming|         1|           3|          0|          4|\n",
            "|Libby Lenton-Tric...| 23|    Australia|2008| 8/24/2008|            Swimming|         2|           1|          1|          4|\n",
            "|         Ryan Lochte| 24|United States|2008| 8/24/2008|            Swimming|         2|           0|          2|          4|\n",
            "|      Inge de Bruijn| 30|  Netherlands|2004| 8/29/2004|            Swimming|         1|           1|          2|          4|\n",
            "+--------------------+---+-------------+----+----------+--------------------+----------+------------+-----------+-----------+\n",
            "only showing top 20 rows\n",
            "\n"
          ]
        }
      ]
    },
    {
      "cell_type": "markdown",
      "source": [
        "###**Explanation**\n",
        "\n",
        "As per the above output,no null values are present."
      ],
      "metadata": {
        "id": "nplzemNItsKG"
      }
    },
    {
      "cell_type": "markdown",
      "source": [
        "##**PySpark code to print the Olympic Sports/games in the dataset.**"
      ],
      "metadata": {
        "id": "5Z4pj00r_Ga2"
      }
    },
    {
      "cell_type": "code",
      "source": [
        "olympix.select(\"sports\").distinct().show() # unique data using distinct function()"
      ],
      "metadata": {
        "id": "99EsJRbj-6Oc",
        "colab": {
          "base_uri": "https://localhost:8080/"
        },
        "outputId": "bf5e13e1-d6be-4735-e311-4ca1f2172b53"
      },
      "execution_count": null,
      "outputs": [
        {
          "output_type": "stream",
          "name": "stdout",
          "text": [
            "+--------------------+\n",
            "|              sports|\n",
            "+--------------------+\n",
            "|          Gymnastics|\n",
            "|              Tennis|\n",
            "|              Boxing|\n",
            "|Short-Track Speed...|\n",
            "|          Ice Hockey|\n",
            "|              Rowing|\n",
            "|                Judo|\n",
            "|            Softball|\n",
            "|             Sailing|\n",
            "|            Swimming|\n",
            "|       Alpine Skiing|\n",
            "|          Basketball|\n",
            "|            Handball|\n",
            "| Rhythmic Gymnastics|\n",
            "|            Biathlon|\n",
            "|           Triathlon|\n",
            "|           Badminton|\n",
            "|           Athletics|\n",
            "|      Figure Skating|\n",
            "|    Beach Volleyball|\n",
            "+--------------------+\n",
            "only showing top 20 rows\n",
            "\n"
          ]
        }
      ]
    },
    {
      "cell_type": "markdown",
      "source": [
        "###**Explanation**\n",
        "\n",
        "As per the above output, the list of the sports mentioned in the dataset."
      ],
      "metadata": {
        "id": "7BvUTncYB1EG"
      }
    },
    {
      "cell_type": "markdown",
      "source": [
        "##**PySpark code to the total number of medals in  each Olympic Sport/game**"
      ],
      "metadata": {
        "id": "mVFz-QcAonzR"
      }
    },
    {
      "cell_type": "code",
      "source": [
        "res=olympix.groupBy(\"sports\").agg({\"total_medal\":\"sum\"}) # grouping the sports nd sum of total medals\n",
        "res.show() #print output "
      ],
      "metadata": {
        "id": "ic3ed0dLoDOC",
        "colab": {
          "base_uri": "https://localhost:8080/"
        },
        "outputId": "43224b02-0cf0-4eab-d75c-759b07fd5548"
      },
      "execution_count": null,
      "outputs": [
        {
          "output_type": "stream",
          "name": "stdout",
          "text": [
            "+--------------------+----------------+\n",
            "|              sports|sum(total_medal)|\n",
            "+--------------------+----------------+\n",
            "|          Gymnastics|             282|\n",
            "|              Tennis|              78|\n",
            "|              Boxing|             188|\n",
            "|Short-Track Speed...|             138|\n",
            "|          Ice Hockey|             384|\n",
            "|              Rowing|             576|\n",
            "|                Judo|             224|\n",
            "|            Softball|             134|\n",
            "|             Sailing|             210|\n",
            "|            Swimming|             765|\n",
            "|       Alpine Skiing|              90|\n",
            "|          Basketball|             287|\n",
            "|            Handball|             351|\n",
            "| Rhythmic Gymnastics|              84|\n",
            "|            Biathlon|             138|\n",
            "|           Triathlon|              24|\n",
            "|           Badminton|              96|\n",
            "|           Athletics|             753|\n",
            "|      Figure Skating|              54|\n",
            "|    Beach Volleyball|              48|\n",
            "+--------------------+----------------+\n",
            "only showing top 20 rows\n",
            "\n"
          ]
        }
      ]
    },
    {
      "cell_type": "code",
      "source": [
        "import numpy as np #Importing numpy library\n",
        "import pandas as pd #Importing pandas library\n",
        "import matplotlib.pyplot as plt #Importing matplot library\n",
        "import seaborn as sns # Importing seaborn library"
      ],
      "metadata": {
        "id": "s-zMardBM9PS"
      },
      "execution_count": null,
      "outputs": []
    },
    {
      "cell_type": "code",
      "source": [
        "#converting spark df to pandas df \n",
        "pandasDF =res.toPandas() \n",
        "print(pandasDF) #print output\n"
      ],
      "metadata": {
        "id": "nQoVXdI7KZfv",
        "colab": {
          "base_uri": "https://localhost:8080/"
        },
        "outputId": "e41e7cf6-70b5-4315-bd4e-98509704231a"
      },
      "execution_count": null,
      "outputs": [
        {
          "output_type": "stream",
          "name": "stdout",
          "text": [
            "                       sports  sum(total_medal)\n",
            "0                  Gymnastics               282\n",
            "1                      Tennis                78\n",
            "2                      Boxing               188\n",
            "3   Short-Track Speed Skating               138\n",
            "4                  Ice Hockey               384\n",
            "5                      Rowing               576\n",
            "6                        Judo               224\n",
            "7                    Softball               134\n",
            "8                     Sailing               210\n",
            "9                    Swimming               765\n",
            "10              Alpine Skiing                90\n",
            "11                 Basketball               287\n",
            "12                   Handball               351\n",
            "13        Rhythmic Gymnastics                84\n",
            "14                   Biathlon               138\n",
            "15                  Triathlon                24\n",
            "16                  Badminton                96\n",
            "17                  Athletics               753\n",
            "18             Figure Skating                54\n",
            "19           Beach Volleyball                48\n",
            "20                 Equestrian               182\n",
            "21                   Shooting               192\n",
            "22                     Diving               144\n",
            "23                   Skeleton                18\n",
            "24                Ski Jumping                54\n",
            "25            Nordic Combined                54\n",
            "26                  Wrestling               245\n",
            "27              Speed Skating               140\n",
            "28               Table Tennis                84\n",
            "29                  Taekwondo               112\n",
            "30                   Canoeing               333\n",
            "31              Weightlifting               180\n",
            "32                  Waterpolo               306\n",
            "33                   Baseball               216\n",
            "34          Modern Pentathlon                24\n",
            "35               Snowboarding                48\n",
            "36                  Bobsleigh                72\n",
            "37                    Cycling               306\n",
            "38       Cross Country Skiing               174\n",
            "39                 Volleyball               281\n",
            "40                    Archery                96\n",
            "41      Synchronized Swimming               129\n",
            "42                    Curling                82\n",
            "43                    Fencing               256\n",
            "44                     Hockey               388\n",
            "45           Freestyle Skiing                42\n",
            "46                   Football               407\n",
            "47                       Luge                36\n",
            "48                 Trampoline                24\n"
          ]
        }
      ]
    },
    {
      "cell_type": "markdown",
      "source": [
        "##**Sort the result based on the total number of medals.**"
      ],
      "metadata": {
        "id": "9RE4gaPe81Uz"
      }
    },
    {
      "cell_type": "code",
      "source": [
        "from pyspark.sql.functions import col #importing the col function from pyspark.sql"
      ],
      "metadata": {
        "id": "LC5cZWklRj3Q"
      },
      "execution_count": null,
      "outputs": []
    },
    {
      "cell_type": "code",
      "source": [
        "olympix.orderBy(col(\"total_medal\").asc(),col(\"sports\").asc()).distinct().show(truncate=False) #sorting the data based on total medals "
      ],
      "metadata": {
        "id": "5p7Zhx2k8M1T",
        "colab": {
          "base_uri": "https://localhost:8080/"
        },
        "outputId": "a6a0e1d8-97b1-41c3-d086-8a24088e9f3a"
      },
      "execution_count": null,
      "outputs": [
        {
          "output_type": "stream",
          "name": "stdout",
          "text": [
            "+---------------------+---+---------------------+----+----------+-------------------------+----------+------------+-----------+-----------+\n",
            "|name                 |age|country              |year|Date_Given|sports                   |gold_medal|silver_medal|brone_medal|total_medal|\n",
            "+---------------------+---+---------------------+----+----------+-------------------------+----------+------------+-----------+-----------+\n",
            "|Wang Meng            |20 |China                |2006|2/26/2006 |Short-Track Speed Skating|1         |1           |1          |3          |\n",
            "|Rita König           |23 |Germany              |2000|10-01-2000|Fencing                  |0         |1           |1          |2          |\n",
            "|Botond Storcz        |25 |Hungary              |2000|10-01-2000|Canoeing                 |2         |0           |0          |2          |\n",
            "|Ole Einar Bjørndalen |36 |Norway               |2010|2/28/2010 |Biathlon                 |1         |1           |0          |2          |\n",
            "|Roser Tarragó        |19 |Spain                |2012|08-12-2012|Waterpolo                |0         |1           |0          |1          |\n",
            "|Mieke Cabout         |22 |Netherlands          |2008|8/24/2008 |Waterpolo                |1         |0           |0          |1          |\n",
            "|Vasa Mijic           |27 |Serbia and Montenegro|2000|10-01-2000|Volleyball               |1         |0           |0          |1          |\n",
            "|Huang Chih-Hsiung    |23 |Chinese Taipei       |2000|10-01-2000|Taekwondo                |0         |0           |1          |1          |\n",
            "|Luo Xi               |24 |China                |2012|08-12-2012|Synchronized Swimming    |0         |1           |0          |1          |\n",
            "|Yevgeny Lagunov      |22 |Russia               |2008|8/24/2008 |Swimming                 |0         |1           |0          |1          |\n",
            "|Ayumi Karino         |23 |Japan                |2008|8/24/2008 |Softball                 |1         |0           |0          |1          |\n",
            "|Crystl Bustos        |23 |United States        |2000|10-01-2000|Softball                 |1         |0           |0          |1          |\n",
            "|Jessica Rossi        |20 |Italy                |2012|08-12-2012|Shooting                 |1         |0           |0          |1          |\n",
            "|Nino Salukvadze      |39 |Georgia              |2008|8/24/2008 |Shooting                 |0         |0           |1          |1          |\n",
            "|Merel Witteveen      |23 |Netherlands          |2008|8/24/2008 |Sailing                  |0         |1           |0          |1          |\n",
            "|Simon Hiscocks       |27 |Great Britain        |2000|10-01-2000|Sailing                  |0         |1           |0          |1          |\n",
            "|Georgios Vazagkasvili|26 |Georgia              |2000|10-01-2000|Judo                     |0         |0           |1          |1          |\n",
            "|Saija Sirviö         |27 |Finland              |2010|2/28/2010 |Ice Hockey               |0         |0           |1          |1          |\n",
            "|Isabelle Chartrand   |23 |Canada               |2002|2/24/2002 |Ice Hockey               |1         |0           |0          |1          |\n",
            "|Beth Storry          |34 |Great Britain        |2012|08-12-2012|Hockey                   |0         |0           |1          |1          |\n",
            "+---------------------+---+---------------------+----+----------+-------------------------+----------+------------+-----------+-----------+\n",
            "only showing top 20 rows\n",
            "\n"
          ]
        }
      ]
    },
    {
      "cell_type": "markdown",
      "source": [
        "###**Explanation**\n",
        "\n",
        "As per the above output, the data is sorted according to the total medals won by sports."
      ],
      "metadata": {
        "id": "5ECBi5GL892-"
      }
    },
    {
      "cell_type": "markdown",
      "source": [
        "##**Total number of medals won by each country in swimming.**"
      ],
      "metadata": {
        "id": "o0ieq-CQyomq"
      }
    },
    {
      "cell_type": "code",
      "source": [
        "from pyspark.sql.functions import asc,desc #importing the col function from pyspark.sql"
      ],
      "metadata": {
        "id": "eJ5pfLu2M8kM"
      },
      "execution_count": null,
      "outputs": []
    },
    {
      "cell_type": "code",
      "source": [
        "olympix.filter(olympix.sports==\"Swimming\").groupBy(\"country\").sum(\"total_medal\").orderBy(desc(\"sum(total_medal)\")).show(10)"
      ],
      "metadata": {
        "id": "9_5P8wrKNHrJ",
        "colab": {
          "base_uri": "https://localhost:8080/"
        },
        "outputId": "f11d0cde-8248-41b8-e8c6-7c185a8c22b8"
      },
      "execution_count": null,
      "outputs": [
        {
          "output_type": "stream",
          "name": "stdout",
          "text": [
            "+-------------+----------------+\n",
            "|      country|sum(total_medal)|\n",
            "+-------------+----------------+\n",
            "|United States|             267|\n",
            "|    Australia|             163|\n",
            "|  Netherlands|              46|\n",
            "|        Japan|              43|\n",
            "|       France|              39|\n",
            "|        China|              35|\n",
            "|      Germany|              32|\n",
            "|       Russia|              20|\n",
            "|        Italy|              16|\n",
            "|Great Britain|              11|\n",
            "+-------------+----------------+\n",
            "only showing top 10 rows\n",
            "\n"
          ]
        }
      ]
    },
    {
      "cell_type": "markdown",
      "source": [
        "###**Expectation**\n",
        "\n",
        "As per the above result ,we can see the total number of medals won by each country on swimming "
      ],
      "metadata": {
        "id": "zqax-710RDcA"
      }
    },
    {
      "cell_type": "markdown",
      "source": [
        "##**Total number of medals won by each country in Skeleton.**"
      ],
      "metadata": {
        "id": "w6WfNVpTyx7Z"
      }
    },
    {
      "cell_type": "code",
      "source": [
        "olympix.filter(olympix.sports==\"Skeleton\").groupBy(\"country\").sum(\"total_medal\").orderBy(desc(\"sum(total_medal)\")).show(10) # filtering the skeleton and grouping the country and finding the total medals "
      ],
      "metadata": {
        "id": "NPZXrUaRNl1q",
        "colab": {
          "base_uri": "https://localhost:8080/"
        },
        "outputId": "ba1ca032-d9ce-4f16-fdd3-849478162aee"
      },
      "execution_count": null,
      "outputs": [
        {
          "output_type": "stream",
          "name": "stdout",
          "text": [
            "+-------------+----------------+\n",
            "|      country|sum(total_medal)|\n",
            "+-------------+----------------+\n",
            "|       Canada|               4|\n",
            "|Great Britain|               3|\n",
            "|  Switzerland|               3|\n",
            "|United States|               3|\n",
            "|      Germany|               2|\n",
            "|       Russia|               1|\n",
            "|      Austria|               1|\n",
            "|       Latvia|               1|\n",
            "+-------------+----------------+\n",
            "\n"
          ]
        }
      ]
    },
    {
      "cell_type": "markdown",
      "source": [
        "###**Expectation**\n",
        "\n",
        "As per the above result ,we can see the total number of medals won by each country on skeleton."
      ],
      "metadata": {
        "id": "F_DLVrk6RSR4"
      }
    },
    {
      "cell_type": "markdown",
      "source": [
        "##**Number of medals that the US won yearly.**"
      ],
      "metadata": {
        "id": "VEe7Yqczy6Rg"
      }
    },
    {
      "cell_type": "code",
      "source": [
        "olympix.filter(olympix.country==\"United States\").groupBy(\"year\").agg({\"total_medal\":\"sum\"}).show() # filtering the country and grouping the year and finding total medals won"
      ],
      "metadata": {
        "id": "hB3GO0pVOPDQ",
        "colab": {
          "base_uri": "https://localhost:8080/"
        },
        "outputId": "8543292a-4c0e-4527-eaf1-a09d0f7339db"
      },
      "execution_count": null,
      "outputs": [
        {
          "output_type": "stream",
          "name": "stdout",
          "text": [
            "+----+----------------+\n",
            "|year|sum(total_medal)|\n",
            "+----+----------------+\n",
            "|2006|              52|\n",
            "|2004|             265|\n",
            "|2012|             254|\n",
            "|2000|             243|\n",
            "|2010|              97|\n",
            "|2008|             317|\n",
            "|2002|              84|\n",
            "+----+----------------+\n",
            "\n"
          ]
        }
      ]
    },
    {
      "cell_type": "code",
      "source": [
        "olympix.filter(olympix.country==\"United States\").agg({\"total_medal\":\"sum\"}).show() #finding the total number of medals won by united states"
      ],
      "metadata": {
        "id": "NuHOHYf9PIwm",
        "colab": {
          "base_uri": "https://localhost:8080/"
        },
        "outputId": "3b4518ad-801a-44e1-da8c-567331ba365d"
      },
      "execution_count": null,
      "outputs": [
        {
          "output_type": "stream",
          "name": "stdout",
          "text": [
            "+----------------+\n",
            "|sum(total_medal)|\n",
            "+----------------+\n",
            "|            1312|\n",
            "+----------------+\n",
            "\n"
          ]
        }
      ]
    },
    {
      "cell_type": "markdown",
      "source": [
        "###**Explanation**\n",
        "\n",
        "As per the above result, we can see how many medals won by united states on participated year.\n",
        "\n",
        "The total number of medals won by united states is **1312**."
      ],
      "metadata": {
        "id": "TadQIHjgOxUB"
      }
    },
    {
      "cell_type": "markdown",
      "source": [
        "##**Total number of medals won by each country.**"
      ],
      "metadata": {
        "id": "j2QQXW4UCbqm"
      }
    },
    {
      "cell_type": "code",
      "source": [
        "res1 = olympix.groupBy(\"country\").agg({\"total_medal\":\"sum\"}) # grouping the country and sum of total medals \n",
        "res1.show() #print output "
      ],
      "metadata": {
        "id": "9cgrafkGCdqC",
        "colab": {
          "base_uri": "https://localhost:8080/"
        },
        "outputId": "aa5b2a66-ebda-4dfc-e1c4-e2ff91fe75e5"
      },
      "execution_count": null,
      "outputs": [
        {
          "output_type": "stream",
          "name": "stdout",
          "text": [
            "+--------------+----------------+\n",
            "|       country|sum(total_medal)|\n",
            "+--------------+----------------+\n",
            "|        Russia|             768|\n",
            "|      Paraguay|              17|\n",
            "|Chinese Taipei|              20|\n",
            "|        Sweden|             181|\n",
            "|       Eritrea|               1|\n",
            "|     Singapore|               7|\n",
            "|      Malaysia|               3|\n",
            "|        Turkey|              28|\n",
            "|       Germany|             629|\n",
            "|   Afghanistan|               2|\n",
            "|         Sudan|               1|\n",
            "|        France|             318|\n",
            "|        Greece|              59|\n",
            "|     Sri Lanka|               1|\n",
            "|       Algeria|               8|\n",
            "|          Togo|               1|\n",
            "|      Slovakia|              35|\n",
            "|     Argentina|             141|\n",
            "|       Belgium|              18|\n",
            "| Great Britain|             322|\n",
            "+--------------+----------------+\n",
            "only showing top 20 rows\n",
            "\n"
          ]
        }
      ]
    },
    {
      "cell_type": "markdown",
      "source": [
        "##**Oldest athlete in the olympics**"
      ],
      "metadata": {
        "id": "myRaT0XrC2WR"
      }
    },
    {
      "cell_type": "code",
      "source": [
        "olympix.select(\"name\",\"age\").sort(desc(\"age\")).show(5) #finding the oldest age of athletes"
      ],
      "metadata": {
        "id": "UpSU6d0EP6-i",
        "colab": {
          "base_uri": "https://localhost:8080/"
        },
        "outputId": "b699b8eb-520a-4d0a-be32-13dfd74b5062"
      },
      "execution_count": null,
      "outputs": [
        {
          "output_type": "stream",
          "name": "stdout",
          "text": [
            "+--------------------+---+\n",
            "|                name|age|\n",
            "+--------------------+---+\n",
            "|          Ian Millar| 61|\n",
            "|           Mark Todd| 56|\n",
            "|            Mac Cone| 55|\n",
            "|        Nick Skelton| 54|\n",
            "|Lesley Thompson-W...| 52|\n",
            "+--------------------+---+\n",
            "only showing top 5 rows\n",
            "\n"
          ]
        }
      ]
    },
    {
      "cell_type": "markdown",
      "source": [
        "###**Explanaton**\n",
        "\n",
        "As per the above result the oldest athlete is **IAN MILLAR** and his age is **61**."
      ],
      "metadata": {
        "id": "Y_sVhU9bMh5-"
      }
    },
    {
      "cell_type": "markdown",
      "source": [
        "##**Which country was he/she from?**"
      ],
      "metadata": {
        "id": "6PgqcynvC77-"
      }
    },
    {
      "cell_type": "code",
      "source": [
        "olympix.select(\"name\",\"age\",\"country\").sort(desc(\"age\")).show(5) #finding the country of oldest athletes"
      ],
      "metadata": {
        "id": "uiEena1yQjkQ",
        "colab": {
          "base_uri": "https://localhost:8080/"
        },
        "outputId": "1c555f1a-031f-4083-f1ae-74db637cd47a"
      },
      "execution_count": null,
      "outputs": [
        {
          "output_type": "stream",
          "name": "stdout",
          "text": [
            "+--------------------+---+-------------+\n",
            "|                name|age|      country|\n",
            "+--------------------+---+-------------+\n",
            "|          Ian Millar| 61|       Canada|\n",
            "|           Mark Todd| 56|  New Zealand|\n",
            "|            Mac Cone| 55|       Canada|\n",
            "|        Nick Skelton| 54|Great Britain|\n",
            "|Lesley Thompson-W...| 52|       Canada|\n",
            "+--------------------+---+-------------+\n",
            "only showing top 5 rows\n",
            "\n"
          ]
        }
      ]
    },
    {
      "cell_type": "markdown",
      "source": [
        "###**Explanation**\n",
        "\n",
        "As per the above result,the oldest athlete is IAN MILLER and he belongs to **CANADA**"
      ],
      "metadata": {
        "id": "n6kxI2KBMtxm"
      }
    }
  ]
}